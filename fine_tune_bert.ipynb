{
  "nbformat": 4,
  "nbformat_minor": 0,
  "metadata": {
    "colab": {
      "provenance": []
    },
    "kernelspec": {
      "name": "python3",
      "display_name": "Python 3"
    },
    "language_info": {
      "name": "python"
    },
    "widgets": {
      "application/vnd.jupyter.widget-state+json": {
        "a1c4f10e24184d62849d36dece5602ff": {
          "model_module": "@jupyter-widgets/controls",
          "model_name": "HBoxModel",
          "model_module_version": "1.5.0",
          "state": {
            "_dom_classes": [],
            "_model_module": "@jupyter-widgets/controls",
            "_model_module_version": "1.5.0",
            "_model_name": "HBoxModel",
            "_view_count": null,
            "_view_module": "@jupyter-widgets/controls",
            "_view_module_version": "1.5.0",
            "_view_name": "HBoxView",
            "box_style": "",
            "children": [
              "IPY_MODEL_b7ab889eaf22421ea576a7a6b385a9c5",
              "IPY_MODEL_78938817f4d14beeb45c605361005c8c",
              "IPY_MODEL_71f24a2ef4b34632a25c61806438015d"
            ],
            "layout": "IPY_MODEL_16ca23f41a6d452c8aedace270ee8c65"
          }
        },
        "b7ab889eaf22421ea576a7a6b385a9c5": {
          "model_module": "@jupyter-widgets/controls",
          "model_name": "HTMLModel",
          "model_module_version": "1.5.0",
          "state": {
            "_dom_classes": [],
            "_model_module": "@jupyter-widgets/controls",
            "_model_module_version": "1.5.0",
            "_model_name": "HTMLModel",
            "_view_count": null,
            "_view_module": "@jupyter-widgets/controls",
            "_view_module_version": "1.5.0",
            "_view_name": "HTMLView",
            "description": "",
            "description_tooltip": null,
            "layout": "IPY_MODEL_77d9a331d92d471cacb0d43c38abd411",
            "placeholder": "​",
            "style": "IPY_MODEL_b46dbd447bf94079ae3624bda1675b68",
            "value": "100%"
          }
        },
        "78938817f4d14beeb45c605361005c8c": {
          "model_module": "@jupyter-widgets/controls",
          "model_name": "FloatProgressModel",
          "model_module_version": "1.5.0",
          "state": {
            "_dom_classes": [],
            "_model_module": "@jupyter-widgets/controls",
            "_model_module_version": "1.5.0",
            "_model_name": "FloatProgressModel",
            "_view_count": null,
            "_view_module": "@jupyter-widgets/controls",
            "_view_module_version": "1.5.0",
            "_view_name": "ProgressView",
            "bar_style": "success",
            "description": "",
            "description_tooltip": null,
            "layout": "IPY_MODEL_afd9e37e85e64660a538179158292ee9",
            "max": 25000,
            "min": 0,
            "orientation": "horizontal",
            "style": "IPY_MODEL_fab0100cf33a42a4992e6a652e873cfa",
            "value": 25000
          }
        },
        "71f24a2ef4b34632a25c61806438015d": {
          "model_module": "@jupyter-widgets/controls",
          "model_name": "HTMLModel",
          "model_module_version": "1.5.0",
          "state": {
            "_dom_classes": [],
            "_model_module": "@jupyter-widgets/controls",
            "_model_module_version": "1.5.0",
            "_model_name": "HTMLModel",
            "_view_count": null,
            "_view_module": "@jupyter-widgets/controls",
            "_view_module_version": "1.5.0",
            "_view_name": "HTMLView",
            "description": "",
            "description_tooltip": null,
            "layout": "IPY_MODEL_8656b7e9d7764f43a5b2df7d5e90e3aa",
            "placeholder": "​",
            "style": "IPY_MODEL_d2136ff123224360af0748c6121bb147",
            "value": " 25000/25000 [03:30&lt;00:00, 150.42it/s]"
          }
        },
        "16ca23f41a6d452c8aedace270ee8c65": {
          "model_module": "@jupyter-widgets/base",
          "model_name": "LayoutModel",
          "model_module_version": "1.2.0",
          "state": {
            "_model_module": "@jupyter-widgets/base",
            "_model_module_version": "1.2.0",
            "_model_name": "LayoutModel",
            "_view_count": null,
            "_view_module": "@jupyter-widgets/base",
            "_view_module_version": "1.2.0",
            "_view_name": "LayoutView",
            "align_content": null,
            "align_items": null,
            "align_self": null,
            "border": null,
            "bottom": null,
            "display": null,
            "flex": null,
            "flex_flow": null,
            "grid_area": null,
            "grid_auto_columns": null,
            "grid_auto_flow": null,
            "grid_auto_rows": null,
            "grid_column": null,
            "grid_gap": null,
            "grid_row": null,
            "grid_template_areas": null,
            "grid_template_columns": null,
            "grid_template_rows": null,
            "height": null,
            "justify_content": null,
            "justify_items": null,
            "left": null,
            "margin": null,
            "max_height": null,
            "max_width": null,
            "min_height": null,
            "min_width": null,
            "object_fit": null,
            "object_position": null,
            "order": null,
            "overflow": null,
            "overflow_x": null,
            "overflow_y": null,
            "padding": null,
            "right": null,
            "top": null,
            "visibility": null,
            "width": null
          }
        },
        "77d9a331d92d471cacb0d43c38abd411": {
          "model_module": "@jupyter-widgets/base",
          "model_name": "LayoutModel",
          "model_module_version": "1.2.0",
          "state": {
            "_model_module": "@jupyter-widgets/base",
            "_model_module_version": "1.2.0",
            "_model_name": "LayoutModel",
            "_view_count": null,
            "_view_module": "@jupyter-widgets/base",
            "_view_module_version": "1.2.0",
            "_view_name": "LayoutView",
            "align_content": null,
            "align_items": null,
            "align_self": null,
            "border": null,
            "bottom": null,
            "display": null,
            "flex": null,
            "flex_flow": null,
            "grid_area": null,
            "grid_auto_columns": null,
            "grid_auto_flow": null,
            "grid_auto_rows": null,
            "grid_column": null,
            "grid_gap": null,
            "grid_row": null,
            "grid_template_areas": null,
            "grid_template_columns": null,
            "grid_template_rows": null,
            "height": null,
            "justify_content": null,
            "justify_items": null,
            "left": null,
            "margin": null,
            "max_height": null,
            "max_width": null,
            "min_height": null,
            "min_width": null,
            "object_fit": null,
            "object_position": null,
            "order": null,
            "overflow": null,
            "overflow_x": null,
            "overflow_y": null,
            "padding": null,
            "right": null,
            "top": null,
            "visibility": null,
            "width": null
          }
        },
        "b46dbd447bf94079ae3624bda1675b68": {
          "model_module": "@jupyter-widgets/controls",
          "model_name": "DescriptionStyleModel",
          "model_module_version": "1.5.0",
          "state": {
            "_model_module": "@jupyter-widgets/controls",
            "_model_module_version": "1.5.0",
            "_model_name": "DescriptionStyleModel",
            "_view_count": null,
            "_view_module": "@jupyter-widgets/base",
            "_view_module_version": "1.2.0",
            "_view_name": "StyleView",
            "description_width": ""
          }
        },
        "afd9e37e85e64660a538179158292ee9": {
          "model_module": "@jupyter-widgets/base",
          "model_name": "LayoutModel",
          "model_module_version": "1.2.0",
          "state": {
            "_model_module": "@jupyter-widgets/base",
            "_model_module_version": "1.2.0",
            "_model_name": "LayoutModel",
            "_view_count": null,
            "_view_module": "@jupyter-widgets/base",
            "_view_module_version": "1.2.0",
            "_view_name": "LayoutView",
            "align_content": null,
            "align_items": null,
            "align_self": null,
            "border": null,
            "bottom": null,
            "display": null,
            "flex": null,
            "flex_flow": null,
            "grid_area": null,
            "grid_auto_columns": null,
            "grid_auto_flow": null,
            "grid_auto_rows": null,
            "grid_column": null,
            "grid_gap": null,
            "grid_row": null,
            "grid_template_areas": null,
            "grid_template_columns": null,
            "grid_template_rows": null,
            "height": null,
            "justify_content": null,
            "justify_items": null,
            "left": null,
            "margin": null,
            "max_height": null,
            "max_width": null,
            "min_height": null,
            "min_width": null,
            "object_fit": null,
            "object_position": null,
            "order": null,
            "overflow": null,
            "overflow_x": null,
            "overflow_y": null,
            "padding": null,
            "right": null,
            "top": null,
            "visibility": null,
            "width": null
          }
        },
        "fab0100cf33a42a4992e6a652e873cfa": {
          "model_module": "@jupyter-widgets/controls",
          "model_name": "ProgressStyleModel",
          "model_module_version": "1.5.0",
          "state": {
            "_model_module": "@jupyter-widgets/controls",
            "_model_module_version": "1.5.0",
            "_model_name": "ProgressStyleModel",
            "_view_count": null,
            "_view_module": "@jupyter-widgets/base",
            "_view_module_version": "1.2.0",
            "_view_name": "StyleView",
            "bar_color": null,
            "description_width": ""
          }
        },
        "8656b7e9d7764f43a5b2df7d5e90e3aa": {
          "model_module": "@jupyter-widgets/base",
          "model_name": "LayoutModel",
          "model_module_version": "1.2.0",
          "state": {
            "_model_module": "@jupyter-widgets/base",
            "_model_module_version": "1.2.0",
            "_model_name": "LayoutModel",
            "_view_count": null,
            "_view_module": "@jupyter-widgets/base",
            "_view_module_version": "1.2.0",
            "_view_name": "LayoutView",
            "align_content": null,
            "align_items": null,
            "align_self": null,
            "border": null,
            "bottom": null,
            "display": null,
            "flex": null,
            "flex_flow": null,
            "grid_area": null,
            "grid_auto_columns": null,
            "grid_auto_flow": null,
            "grid_auto_rows": null,
            "grid_column": null,
            "grid_gap": null,
            "grid_row": null,
            "grid_template_areas": null,
            "grid_template_columns": null,
            "grid_template_rows": null,
            "height": null,
            "justify_content": null,
            "justify_items": null,
            "left": null,
            "margin": null,
            "max_height": null,
            "max_width": null,
            "min_height": null,
            "min_width": null,
            "object_fit": null,
            "object_position": null,
            "order": null,
            "overflow": null,
            "overflow_x": null,
            "overflow_y": null,
            "padding": null,
            "right": null,
            "top": null,
            "visibility": null,
            "width": null
          }
        },
        "d2136ff123224360af0748c6121bb147": {
          "model_module": "@jupyter-widgets/controls",
          "model_name": "DescriptionStyleModel",
          "model_module_version": "1.5.0",
          "state": {
            "_model_module": "@jupyter-widgets/controls",
            "_model_module_version": "1.5.0",
            "_model_name": "DescriptionStyleModel",
            "_view_count": null,
            "_view_module": "@jupyter-widgets/base",
            "_view_module_version": "1.2.0",
            "_view_name": "StyleView",
            "description_width": ""
          }
        },
        "5200d7ac9015417b9a0ab5b8487d99aa": {
          "model_module": "@jupyter-widgets/controls",
          "model_name": "HBoxModel",
          "model_module_version": "1.5.0",
          "state": {
            "_dom_classes": [],
            "_model_module": "@jupyter-widgets/controls",
            "_model_module_version": "1.5.0",
            "_model_name": "HBoxModel",
            "_view_count": null,
            "_view_module": "@jupyter-widgets/controls",
            "_view_module_version": "1.5.0",
            "_view_name": "HBoxView",
            "box_style": "",
            "children": [
              "IPY_MODEL_709538b8844c4408b509006919344dc3",
              "IPY_MODEL_8b620ce347d64ac188ce36708de2ac92",
              "IPY_MODEL_32a666bd8468426aa8a9640718a73ea0"
            ],
            "layout": "IPY_MODEL_c1b6a48ea9ea4567973cf31634b34e27"
          }
        },
        "709538b8844c4408b509006919344dc3": {
          "model_module": "@jupyter-widgets/controls",
          "model_name": "HTMLModel",
          "model_module_version": "1.5.0",
          "state": {
            "_dom_classes": [],
            "_model_module": "@jupyter-widgets/controls",
            "_model_module_version": "1.5.0",
            "_model_name": "HTMLModel",
            "_view_count": null,
            "_view_module": "@jupyter-widgets/controls",
            "_view_module_version": "1.5.0",
            "_view_name": "HTMLView",
            "description": "",
            "description_tooltip": null,
            "layout": "IPY_MODEL_ccb2ccec69304ae09df65c3f12c6f179",
            "placeholder": "​",
            "style": "IPY_MODEL_bde4b7fc093547faa9abf4d240445a2a",
            "value": "100%"
          }
        },
        "8b620ce347d64ac188ce36708de2ac92": {
          "model_module": "@jupyter-widgets/controls",
          "model_name": "FloatProgressModel",
          "model_module_version": "1.5.0",
          "state": {
            "_dom_classes": [],
            "_model_module": "@jupyter-widgets/controls",
            "_model_module_version": "1.5.0",
            "_model_name": "FloatProgressModel",
            "_view_count": null,
            "_view_module": "@jupyter-widgets/controls",
            "_view_module_version": "1.5.0",
            "_view_name": "ProgressView",
            "bar_style": "success",
            "description": "",
            "description_tooltip": null,
            "layout": "IPY_MODEL_ea1247559c0745958bc391f7cd035a56",
            "max": 25000,
            "min": 0,
            "orientation": "horizontal",
            "style": "IPY_MODEL_733e49572601413f8b9649835b69ad4d",
            "value": 25000
          }
        },
        "32a666bd8468426aa8a9640718a73ea0": {
          "model_module": "@jupyter-widgets/controls",
          "model_name": "HTMLModel",
          "model_module_version": "1.5.0",
          "state": {
            "_dom_classes": [],
            "_model_module": "@jupyter-widgets/controls",
            "_model_module_version": "1.5.0",
            "_model_name": "HTMLModel",
            "_view_count": null,
            "_view_module": "@jupyter-widgets/controls",
            "_view_module_version": "1.5.0",
            "_view_name": "HTMLView",
            "description": "",
            "description_tooltip": null,
            "layout": "IPY_MODEL_45f9acb868124e558baf84c3e67b1109",
            "placeholder": "​",
            "style": "IPY_MODEL_ff96e682430b40a08d1001b9a526a660",
            "value": " 25000/25000 [03:42&lt;00:00, 155.90it/s]"
          }
        },
        "c1b6a48ea9ea4567973cf31634b34e27": {
          "model_module": "@jupyter-widgets/base",
          "model_name": "LayoutModel",
          "model_module_version": "1.2.0",
          "state": {
            "_model_module": "@jupyter-widgets/base",
            "_model_module_version": "1.2.0",
            "_model_name": "LayoutModel",
            "_view_count": null,
            "_view_module": "@jupyter-widgets/base",
            "_view_module_version": "1.2.0",
            "_view_name": "LayoutView",
            "align_content": null,
            "align_items": null,
            "align_self": null,
            "border": null,
            "bottom": null,
            "display": null,
            "flex": null,
            "flex_flow": null,
            "grid_area": null,
            "grid_auto_columns": null,
            "grid_auto_flow": null,
            "grid_auto_rows": null,
            "grid_column": null,
            "grid_gap": null,
            "grid_row": null,
            "grid_template_areas": null,
            "grid_template_columns": null,
            "grid_template_rows": null,
            "height": null,
            "justify_content": null,
            "justify_items": null,
            "left": null,
            "margin": null,
            "max_height": null,
            "max_width": null,
            "min_height": null,
            "min_width": null,
            "object_fit": null,
            "object_position": null,
            "order": null,
            "overflow": null,
            "overflow_x": null,
            "overflow_y": null,
            "padding": null,
            "right": null,
            "top": null,
            "visibility": null,
            "width": null
          }
        },
        "ccb2ccec69304ae09df65c3f12c6f179": {
          "model_module": "@jupyter-widgets/base",
          "model_name": "LayoutModel",
          "model_module_version": "1.2.0",
          "state": {
            "_model_module": "@jupyter-widgets/base",
            "_model_module_version": "1.2.0",
            "_model_name": "LayoutModel",
            "_view_count": null,
            "_view_module": "@jupyter-widgets/base",
            "_view_module_version": "1.2.0",
            "_view_name": "LayoutView",
            "align_content": null,
            "align_items": null,
            "align_self": null,
            "border": null,
            "bottom": null,
            "display": null,
            "flex": null,
            "flex_flow": null,
            "grid_area": null,
            "grid_auto_columns": null,
            "grid_auto_flow": null,
            "grid_auto_rows": null,
            "grid_column": null,
            "grid_gap": null,
            "grid_row": null,
            "grid_template_areas": null,
            "grid_template_columns": null,
            "grid_template_rows": null,
            "height": null,
            "justify_content": null,
            "justify_items": null,
            "left": null,
            "margin": null,
            "max_height": null,
            "max_width": null,
            "min_height": null,
            "min_width": null,
            "object_fit": null,
            "object_position": null,
            "order": null,
            "overflow": null,
            "overflow_x": null,
            "overflow_y": null,
            "padding": null,
            "right": null,
            "top": null,
            "visibility": null,
            "width": null
          }
        },
        "bde4b7fc093547faa9abf4d240445a2a": {
          "model_module": "@jupyter-widgets/controls",
          "model_name": "DescriptionStyleModel",
          "model_module_version": "1.5.0",
          "state": {
            "_model_module": "@jupyter-widgets/controls",
            "_model_module_version": "1.5.0",
            "_model_name": "DescriptionStyleModel",
            "_view_count": null,
            "_view_module": "@jupyter-widgets/base",
            "_view_module_version": "1.2.0",
            "_view_name": "StyleView",
            "description_width": ""
          }
        },
        "ea1247559c0745958bc391f7cd035a56": {
          "model_module": "@jupyter-widgets/base",
          "model_name": "LayoutModel",
          "model_module_version": "1.2.0",
          "state": {
            "_model_module": "@jupyter-widgets/base",
            "_model_module_version": "1.2.0",
            "_model_name": "LayoutModel",
            "_view_count": null,
            "_view_module": "@jupyter-widgets/base",
            "_view_module_version": "1.2.0",
            "_view_name": "LayoutView",
            "align_content": null,
            "align_items": null,
            "align_self": null,
            "border": null,
            "bottom": null,
            "display": null,
            "flex": null,
            "flex_flow": null,
            "grid_area": null,
            "grid_auto_columns": null,
            "grid_auto_flow": null,
            "grid_auto_rows": null,
            "grid_column": null,
            "grid_gap": null,
            "grid_row": null,
            "grid_template_areas": null,
            "grid_template_columns": null,
            "grid_template_rows": null,
            "height": null,
            "justify_content": null,
            "justify_items": null,
            "left": null,
            "margin": null,
            "max_height": null,
            "max_width": null,
            "min_height": null,
            "min_width": null,
            "object_fit": null,
            "object_position": null,
            "order": null,
            "overflow": null,
            "overflow_x": null,
            "overflow_y": null,
            "padding": null,
            "right": null,
            "top": null,
            "visibility": null,
            "width": null
          }
        },
        "733e49572601413f8b9649835b69ad4d": {
          "model_module": "@jupyter-widgets/controls",
          "model_name": "ProgressStyleModel",
          "model_module_version": "1.5.0",
          "state": {
            "_model_module": "@jupyter-widgets/controls",
            "_model_module_version": "1.5.0",
            "_model_name": "ProgressStyleModel",
            "_view_count": null,
            "_view_module": "@jupyter-widgets/base",
            "_view_module_version": "1.2.0",
            "_view_name": "StyleView",
            "bar_color": null,
            "description_width": ""
          }
        },
        "45f9acb868124e558baf84c3e67b1109": {
          "model_module": "@jupyter-widgets/base",
          "model_name": "LayoutModel",
          "model_module_version": "1.2.0",
          "state": {
            "_model_module": "@jupyter-widgets/base",
            "_model_module_version": "1.2.0",
            "_model_name": "LayoutModel",
            "_view_count": null,
            "_view_module": "@jupyter-widgets/base",
            "_view_module_version": "1.2.0",
            "_view_name": "LayoutView",
            "align_content": null,
            "align_items": null,
            "align_self": null,
            "border": null,
            "bottom": null,
            "display": null,
            "flex": null,
            "flex_flow": null,
            "grid_area": null,
            "grid_auto_columns": null,
            "grid_auto_flow": null,
            "grid_auto_rows": null,
            "grid_column": null,
            "grid_gap": null,
            "grid_row": null,
            "grid_template_areas": null,
            "grid_template_columns": null,
            "grid_template_rows": null,
            "height": null,
            "justify_content": null,
            "justify_items": null,
            "left": null,
            "margin": null,
            "max_height": null,
            "max_width": null,
            "min_height": null,
            "min_width": null,
            "object_fit": null,
            "object_position": null,
            "order": null,
            "overflow": null,
            "overflow_x": null,
            "overflow_y": null,
            "padding": null,
            "right": null,
            "top": null,
            "visibility": null,
            "width": null
          }
        },
        "ff96e682430b40a08d1001b9a526a660": {
          "model_module": "@jupyter-widgets/controls",
          "model_name": "DescriptionStyleModel",
          "model_module_version": "1.5.0",
          "state": {
            "_model_module": "@jupyter-widgets/controls",
            "_model_module_version": "1.5.0",
            "_model_name": "DescriptionStyleModel",
            "_view_count": null,
            "_view_module": "@jupyter-widgets/base",
            "_view_module_version": "1.2.0",
            "_view_name": "StyleView",
            "description_width": ""
          }
        }
      }
    }
  },
  "cells": [
    {
      "cell_type": "code",
      "execution_count": null,
      "metadata": {
        "id": "yXKlUL4gv5Q_",
        "colab": {
          "base_uri": "https://localhost:8080/"
        },
        "outputId": "ed71313c-4296-4081-eaec-fcebc19f2021"
      },
      "outputs": [
        {
          "output_type": "stream",
          "name": "stdout",
          "text": [
            "Requirement already satisfied: transformers in /usr/local/lib/python3.10/dist-packages (4.46.2)\n",
            "Requirement already satisfied: filelock in /usr/local/lib/python3.10/dist-packages (from transformers) (3.16.1)\n",
            "Requirement already satisfied: huggingface-hub<1.0,>=0.23.2 in /usr/local/lib/python3.10/dist-packages (from transformers) (0.26.2)\n",
            "Requirement already satisfied: numpy>=1.17 in /usr/local/lib/python3.10/dist-packages (from transformers) (1.26.4)\n",
            "Requirement already satisfied: packaging>=20.0 in /usr/local/lib/python3.10/dist-packages (from transformers) (24.2)\n",
            "Requirement already satisfied: pyyaml>=5.1 in /usr/local/lib/python3.10/dist-packages (from transformers) (6.0.2)\n",
            "Requirement already satisfied: regex!=2019.12.17 in /usr/local/lib/python3.10/dist-packages (from transformers) (2024.9.11)\n",
            "Requirement already satisfied: requests in /usr/local/lib/python3.10/dist-packages (from transformers) (2.32.3)\n",
            "Requirement already satisfied: safetensors>=0.4.1 in /usr/local/lib/python3.10/dist-packages (from transformers) (0.4.5)\n",
            "Requirement already satisfied: tokenizers<0.21,>=0.20 in /usr/local/lib/python3.10/dist-packages (from transformers) (0.20.3)\n",
            "Requirement already satisfied: tqdm>=4.27 in /usr/local/lib/python3.10/dist-packages (from transformers) (4.66.6)\n",
            "Requirement already satisfied: fsspec>=2023.5.0 in /usr/local/lib/python3.10/dist-packages (from huggingface-hub<1.0,>=0.23.2->transformers) (2024.10.0)\n",
            "Requirement already satisfied: typing-extensions>=3.7.4.3 in /usr/local/lib/python3.10/dist-packages (from huggingface-hub<1.0,>=0.23.2->transformers) (4.12.2)\n",
            "Requirement already satisfied: charset-normalizer<4,>=2 in /usr/local/lib/python3.10/dist-packages (from requests->transformers) (3.4.0)\n",
            "Requirement already satisfied: idna<4,>=2.5 in /usr/local/lib/python3.10/dist-packages (from requests->transformers) (3.10)\n",
            "Requirement already satisfied: urllib3<3,>=1.21.1 in /usr/local/lib/python3.10/dist-packages (from requests->transformers) (2.2.3)\n",
            "Requirement already satisfied: certifi>=2017.4.17 in /usr/local/lib/python3.10/dist-packages (from requests->transformers) (2024.8.30)\n"
          ]
        }
      ],
      "source": [
        "pip install transformers"
      ]
    },
    {
      "cell_type": "markdown",
      "source": [
        " Imports and initialisation"
      ],
      "metadata": {
        "id": "68fiL0UfzG0I"
      }
    },
    {
      "cell_type": "code",
      "source": [
        "import numpy as np\n",
        "\n",
        "import tensorflow as tf\n",
        "import tensorflow.keras as keras\n",
        "import tensorflow.keras.datasets.imdb as imdb\n",
        "from tensorflow.keras.layers import Dense, Dropout\n",
        "from tensorflow.keras.optimizers import Adam\n",
        "from tensorflow.keras.losses import SparseCategoricalCrossentropy\n",
        "from tensorflow.keras.metrics import SparseCategoricalAccuracy\n",
        "\n",
        "#Importation du modèle BERTDISTIL (variante très léger de BERT) sur Hugging Face\n",
        "from transformers import (\n",
        "    DistilBertTokenizer,#Tokenizer pour DistilBert\n",
        "    TFDistilBertModel,#Model DistilBert\n",
        "    DataCollatorWithPadding,#Gestion du padding pour avoir les sequence de même taille\n",
        "    BertTokenizer,#Model Bert\n",
        "    TFBertModel#Model Bert\n",
        ")\n",
        "\n",
        "#Outils pour le suivi et la visualisation :\n",
        "from tqdm.notebook import tqdm #Pour afficher barre de progression dans jupyter notebook\n",
        "import itertools #Pour gérer les itérations\n",
        "import multiprocessing #Pour faire de la parallélisation\n",
        "import os\n",
        "import matplotlib.pyplot as plt\n",
        "import seaborn as sns\n",
        "\n",
        "\n",
        "#Vérification de la version de TensorFlow et de la disponibilité des GPUs\n",
        "print(\"Tensorflow \", tf.__version__)\n",
        "n_gpus = len(tf.config.list_physical_devices('GPU'))\n",
        "print(\"#GPUs: \", n_gpus)\n",
        "if n_gpus > 0:\n",
        "    !nvidia-smi -L\n",
        "os.environ[\"TOKENIZERS_PARALLELISM\"] = \"true\"\n",
        "\n",
        "np.random.seed(987654321)\n",
        "tf.random.set_seed(987654321)"
      ],
      "metadata": {
        "colab": {
          "base_uri": "https://localhost:8080/"
        },
        "id": "qe7mDVoyzK7o",
        "outputId": "28e054c2-af8c-4cd3-b3b5-82d3018f0b68"
      },
      "execution_count": 1,
      "outputs": [
        {
          "output_type": "stream",
          "name": "stdout",
          "text": [
            "Tensorflow  2.17.0\n",
            "#GPUs:  0\n"
          ]
        }
      ]
    },
    {
      "cell_type": "markdown",
      "source": [
        "### Parameters\n",
        "\n",
        "\n",
        "* vocab_size refers to the number of words which will be remembered in our vocabulary\n",
        "\n",
        "* hide_most_frequently is the number of ignored words, among the most common ones.review_len is the review length\n",
        "\n",
        "* n_cpus is the number of CPU which will be used for data preprocessing\n",
        "\n",
        "* distil refers to whether or not we are going to use a DistilBert model or a regular Bert model\n",
        "\n"
      ],
      "metadata": {
        "id": "L6o4FS8L0S2e"
      }
    },
    {
      "cell_type": "code",
      "source": [
        "vocab_size = 30000 #Taille max du dictionnaire pour la tokenisation ici limité aux 30 000 mots les plus fréquents dans les données d'entraînement\n",
        "hide_most_frequently = 0 #ignoré les mots les plus fréquent comme \"le, la , ...\" qui sont peu informatif dans certaines contexte\n",
        "#ici 0 nous permet de rien ignorer\n",
        "review_len = 512 #fixe la longueur maximale des séquences de texte traitées ici 512 tokens, la limite standard pour BERT.\n",
        "\n",
        "epochs = 4\n",
        "batch_size = 40\n",
        "\n",
        "fit_verbosity = 1\n",
        "scale = 1\n",
        "\n",
        "n_cpus = 1\n",
        "distil = True#indique que l'on utilise DistilBERT, la version légère de BERT"
      ],
      "metadata": {
        "id": "eC6cvlY91I1c"
      },
      "execution_count": 2,
      "outputs": []
    },
    {
      "cell_type": "markdown",
      "source": [
        "### Chargement des données"
      ],
      "metadata": {
        "id": "3ykNryKW4rfS"
      }
    },
    {
      "cell_type": "code",
      "source": [
        "# chargement du dataset IMDb\n",
        "(x_train, y_train), (x_test, y_test) = imdb.load_data(\n",
        "    num_words=vocab_size,\n",
        "    skip_top=hide_most_frequently,\n",
        "    seed=123456789,\n",
        ")\n",
        "\"\"\"\n",
        "x_train et x_test sont des listes de critiques, où chaque critique est représentée par une séquence de mots (tokens) encodée sous forme de liste d’entiers.\n",
        "y_train et y_test sont les labels associés, où chaque critique est étiquetée comme étant positive (1) ou négative (0).\n",
        "\"\"\"\n",
        "#convertit les étiquettes en tableau NumPy de type float32, pour assurer la compatibilité avec les couches et fonctions TensorFlow/Keras, qui attendent souvent des données de type flottant.\n",
        "y_train = np.asarray(y_train).astype('float32')\n",
        "y_test  = np.asarray(y_test ).astype('float32')\n",
        "\n",
        "n1 = int(scale * len(x_train))#longueur des données d'entrainement (nbre de ligne)\n",
        "n2 = int(scale * len(x_test))#longueur des données de test (nbre de ligne)\n",
        "\n",
        "#On recupère tout\n",
        "x_train, y_train = x_train[:n1], y_train[:n1]\n",
        "x_test,  y_test  = x_test[:n2],  y_test[:n2]\n",
        "\n",
        "print(\"x_train : {}  y_train : {}\".format(x_train.shape, y_train.shape))\n",
        "print(\"x_test  : {}  y_test  : {}\".format(x_test.shape,  y_test.shape))\n",
        "print('\\nReview sample (x_train[12]) :\\n\\n',x_train[12])"
      ],
      "metadata": {
        "colab": {
          "base_uri": "https://localhost:8080/"
        },
        "id": "XtBiK-V-5wiV",
        "outputId": "2b2b260d-1703-44e6-db15-02d809f9b481"
      },
      "execution_count": 3,
      "outputs": [
        {
          "output_type": "stream",
          "name": "stdout",
          "text": [
            "Downloading data from https://storage.googleapis.com/tensorflow/tf-keras-datasets/imdb.npz\n",
            "\u001b[1m17464789/17464789\u001b[0m \u001b[32m━━━━━━━━━━━━━━━━━━━━\u001b[0m\u001b[37m\u001b[0m \u001b[1m0s\u001b[0m 0us/step\n",
            "x_train : (25000,)  y_train : (25000,)\n",
            "x_test  : (25000,)  y_test  : (25000,)\n",
            "\n",
            "Review sample (x_train[12]) :\n",
            "\n",
            " [1, 13, 124, 4, 84, 5, 13, 122, 49, 7, 4, 748, 5, 2177, 1592, 5, 4, 123, 9, 527, 36, 26, 1026, 117, 362, 37, 92, 28, 101, 676, 5, 242, 43, 11595, 1851, 8, 1779, 98, 2365, 47, 256, 4, 9397, 18, 31, 2, 207, 256, 18, 470, 300, 241, 4, 20, 9, 394, 5, 38, 9, 4, 123, 14, 9, 4, 24370, 91, 1849, 56, 212, 15, 60, 2, 163, 207, 126, 110, 12, 9, 38, 379, 12, 166, 72, 181, 8, 19361, 12, 9, 43, 38, 932, 15, 14002, 62, 126, 1779, 142, 40, 14, 5, 38, 995, 36, 26, 12373, 379, 5, 916, 13, 784, 98, 5, 68, 123, 5, 104, 280, 1851, 2503, 89, 379, 12, 9, 36, 80, 91, 2363, 193, 12, 125]\n"
          ]
        }
      ]
    },
    {
      "cell_type": "code",
      "source": [
        "# Calcul de la répartition des classes\n",
        "unique, counts = np.unique(y_train, return_counts=True)\n",
        "class_distribution = dict(zip(unique, counts))\n",
        "\n",
        "# Calcul des proportions pour chaque classe\n",
        "total_samples = len(y_train)\n",
        "proportions = [count / total_samples * 100 for count in counts]  # En pourcentage\n",
        "\n",
        "# Création du diagramme en barres avec les proportions\n",
        "plt.figure(figsize=(8, 6))\n",
        "bars = plt.bar(class_distribution.keys(), class_distribution.values(), color=['skyblue', 'salmon'])\n",
        "plt.xticks([0, 1], [\"Negative\", \"Positive\"])  # Remplacez les labels selon les classes\n",
        "plt.xlabel(\"Classes\")\n",
        "plt.ylabel(\"Nombre d'exemples\")\n",
        "plt.title(\"Répartition des modalités dans y_train\")\n",
        "\n",
        "# Ajouter les proportions au-dessus de chaque barre\n",
        "for bar, proportion in zip(bars, proportions):\n",
        "    height = bar.get_height()\n",
        "    plt.text(\n",
        "        bar.get_x() + bar.get_width() / 2,\n",
        "        height,\n",
        "        f\"{proportion:.2f}%\",\n",
        "        ha='center',\n",
        "        va='bottom'\n",
        "    )\n",
        "\n",
        "plt.show()"
      ],
      "metadata": {
        "colab": {
          "base_uri": "https://localhost:8080/",
          "height": 565
        },
        "id": "Y61gkfUJj6wU",
        "outputId": "2451d1a2-6b51-4329-9834-49f113518f73"
      },
      "execution_count": 4,
      "outputs": [
        {
          "output_type": "display_data",
          "data": {
            "text/plain": [
              "<Figure size 800x600 with 1 Axes>"
            ],
            "image/png": "[encoded data removed]"
          },
          "metadata": {}
        }
      ]
    },
    {
      "cell_type": "markdown",
      "source": [
        "### Transformation en texte humain des séquences de token pour qu'on puisse comprendre"
      ],
      "metadata": {
        "id": "3QqeZKW1Ht2T"
      }
    },
    {
      "cell_type": "code",
      "source": [
        "word_index = imdb.get_word_index() #récupère un dictionnaire où chaque mot du vocabulaire IMDb est associé à un index unique\n",
        "\n",
        "#décale tous les indices de 3 pour laisser de la place pour des tokens spéciaux.\n",
        "word_index = {w:(i+3) for w,i in word_index.items()}\n",
        "\n",
        "word_index.update({'[PAD]':0, '[CLS]':1, '[UNK]':2})\n",
        "\"\"\"\n",
        "[PAD] (padding, valeur 0) : utilisé pour remplir les séquences plus courtes, pour obtenir des séquences de même longueur.\n",
        "[CLS] (classement, valeur 1) : token indiquant le début de chaque séquence, souvent utilisé pour des modèles comme BERT.\n",
        "[UNK] (inconnu, valeur 2) : utilisé pour les mots qui n'apparaissent pas dans le vocabulaire.\n",
        "\"\"\"\n",
        "#dictionnaire inversé de word_index, où chaque index est associé à son mot correspondant. Cela permet de traduire une séquence de tokens en mots lisibles.\n",
        "index_word = {index:word for word,index in word_index.items()}\n",
        "\n",
        "# Fonction de traduction de critiques en texte lisible :\n",
        "def dataset2text(review):\n",
        "    return ' '.join([index_word.get(i, \"?\") for i in review[1:]])\n",
        "\n",
        "\n",
        "print(dataset2text(x_train[12]))"
      ],
      "metadata": {
        "colab": {
          "base_uri": "https://localhost:8080/"
        },
        "id": "faJ6cmvw5wfM",
        "outputId": "a09a1fe7-5ede-4f5a-b15c-2ea72cf08607"
      },
      "execution_count": 19,
      "outputs": [
        {
          "output_type": "stream",
          "name": "stdout",
          "text": [
            "i know the people and i did some of the animation and graphic design and the show is horrible they are rich little kids who don't have any talent and probably just begged nick to accept them alex has played the drums for one [UNK] i've played for 4 1 2 the movie is terrible and so is the show this is the craziest most mixed up comedy that even [UNK] funny i've ever seen it is so stupid it makes me want to barf it is just so crazy that nickelodeon would ever accept something like this and so dumb they are sooo stupid and weird i hate them and their show and think once nick realizes how stupid it is they will most hopefully take it off\n"
          ]
        }
      ]
    },
    {
      "cell_type": "code",
      "source": [
        "#Fonction de chargement de modèle BERT\n",
        "def load_model(distil):\n",
        "  if distil:\n",
        "      bert_model = TFDistilBertModel.from_pretrained(\"distilbert-base-uncased\")\n",
        "      tokenizer = DistilBertTokenizer.from_pretrained(\"distilbert-base-uncased\")\n",
        "  else:\n",
        "      bert_model = TFBertModel.from_pretrained(\"bert-base-uncased\")\n",
        "      tokenizer = BertTokenizer.from_pretrained(\"bert-base-uncased\")\n",
        "  return bert_model, tokenizer\n",
        "\n",
        "bert_model, tokenizer = load_model(distil)\n",
        "bert_model.summary()"
      ],
      "metadata": {
        "colab": {
          "base_uri": "https://localhost:8080/"
        },
        "id": "Ctm0xs0d5wb9",
        "outputId": "61f3d173-0c75-4359-bb49-b2c9af20e835"
      },
      "execution_count": 20,
      "outputs": [
        {
          "output_type": "stream",
          "name": "stderr",
          "text": [
            "Some weights of the PyTorch model were not used when initializing the TF 2.0 model TFDistilBertModel: ['vocab_projector.bias', 'vocab_layer_norm.bias', 'vocab_transform.weight', 'vocab_transform.bias', 'vocab_layer_norm.weight']\n",
            "- This IS expected if you are initializing TFDistilBertModel from a PyTorch model trained on another task or with another architecture (e.g. initializing a TFBertForSequenceClassification model from a BertForPreTraining model).\n",
            "- This IS NOT expected if you are initializing TFDistilBertModel from a PyTorch model that you expect to be exactly identical (e.g. initializing a TFBertForSequenceClassification model from a BertForSequenceClassification model).\n",
            "All the weights of TFDistilBertModel were initialized from the PyTorch model.\n",
            "If your task is similar to the task the model of the checkpoint was trained on, you can already use TFDistilBertModel for predictions without further training.\n"
          ]
        },
        {
          "output_type": "stream",
          "name": "stdout",
          "text": [
            "Model: \"tf_distil_bert_model_1\"\n",
            "_________________________________________________________________\n",
            " Layer (type)                Output Shape              Param #   \n",
            "=================================================================\n",
            " distilbert (TFDistilBertMa  multiple                  66362880  \n",
            " inLayer)                                                        \n",
            "                                                                 \n",
            "=================================================================\n",
            "Total params: 66362880 (253.15 MB)\n",
            "Trainable params: 66362880 (253.15 MB)\n",
            "Non-trainable params: 0 (0.00 Byte)\n",
            "_________________________________________________________________\n"
          ]
        }
      ]
    },
    {
      "cell_type": "markdown",
      "source": [
        "### Préprocessing des commentaires en utilisant le tokeniser de BERT, réalisation du padding et mise en forme du dataset pour les model BERT"
      ],
      "metadata": {
        "id": "HwB9K04qmnaX"
      }
    },
    {
      "cell_type": "code",
      "source": [
        "#Cette fonction prend un sample (ici, une critique sous forme de texte) puis le convertit en tokens adaptés au modèle BERT.\n",
        "def tokenize_sample(sample):\n",
        "    return tokenizer(sample, truncation=True, max_length=review_len)\n",
        "\n",
        "#Tokeniser un ensemble de données (dataset) en utilisant tous les cœurs CPU disponibles pour accélérer le processus.\n",
        "def distributed_tokenize_dataset(dataset):\n",
        "    dataset = list(dataset)\n",
        "    #Pour faire des calcul en parallèle pour la tokenisation sur plusieurs coeurs\n",
        "    with multiprocessing.Pool(multiprocessing.cpu_count()) as pool:\n",
        "        tokenized_ds = list(tqdm(\n",
        "            pool.imap(tokenize_sample, dataset),  # Tokenisation des textes bruts\n",
        "            total=len(dataset)\n",
        "        ))\n",
        "    return tokenized_ds\n",
        "\n",
        "\n",
        "# Assurez-vous que chaque élément est d'abord converti en texte brut\n",
        "text_x_train = [dataset2text(sample) for sample in x_train]  # Conversion des tokens en texte brut\n",
        "text_x_test = [dataset2text(sample) for sample in x_test]\n",
        "\n",
        "\n",
        "tokenized_x_train = distributed_tokenize_dataset(text_x_train)\n",
        "tokenized_x_test = distributed_tokenize_dataset(text_x_test)"
      ],
      "metadata": {
        "colab": {
          "base_uri": "https://localhost:8080/",
          "height": 81,
          "referenced_widgets": [
            "a1c4f10e24184d62849d36dece5602ff",
            "b7ab889eaf22421ea576a7a6b385a9c5",
            "78938817f4d14beeb45c605361005c8c",
            "71f24a2ef4b34632a25c61806438015d",
            "16ca23f41a6d452c8aedace270ee8c65",
            "77d9a331d92d471cacb0d43c38abd411",
            "b46dbd447bf94079ae3624bda1675b68",
            "afd9e37e85e64660a538179158292ee9",
            "fab0100cf33a42a4992e6a652e873cfa",
            "8656b7e9d7764f43a5b2df7d5e90e3aa",
            "d2136ff123224360af0748c6121bb147",
            "5200d7ac9015417b9a0ab5b8487d99aa",
            "709538b8844c4408b509006919344dc3",
            "8b620ce347d64ac188ce36708de2ac92",
            "32a666bd8468426aa8a9640718a73ea0",
            "c1b6a48ea9ea4567973cf31634b34e27",
            "ccb2ccec69304ae09df65c3f12c6f179",
            "bde4b7fc093547faa9abf4d240445a2a",
            "ea1247559c0745958bc391f7cd035a56",
            "733e49572601413f8b9649835b69ad4d",
            "45f9acb868124e558baf84c3e67b1109",
            "ff96e682430b40a08d1001b9a526a660"
          ]
        },
        "id": "kMohyK625wY6",
        "outputId": "ebc58086-b5d1-4996-de4c-c44cb04f0584"
      },
      "execution_count": 21,
      "outputs": [
        {
          "output_type": "display_data",
          "data": {
            "text/plain": [
              "  0%|          | 0/25000 [00:00<?, ?it/s]"
            ],
            "application/vnd.jupyter.widget-view+json": {
              "version_major": 2,
              "version_minor": 0,
              "model_id": "a1c4f10e24184d62849d36dece5602ff"
            }
          },
          "metadata": {}
        },
        {
          "output_type": "display_data",
          "data": {
            "text/plain": [
              "  0%|          | 0/25000 [00:00<?, ?it/s]"
            ],
            "application/vnd.jupyter.widget-view+json": {
              "version_major": 2,
              "version_minor": 0,
              "model_id": "5200d7ac9015417b9a0ab5b8487d99aa"
            }
          },
          "metadata": {}
        }
      ]
    },
    {
      "cell_type": "code",
      "source": [
        "#S'assure que toutes les séquences ont la même longueur en les remplissant (padding) à la longueur maximale.\n",
        "data_collator = DataCollatorWithPadding(tokenizer, return_tensors=\"tf\")\n",
        "#Par exemple\n",
        "data_collator(tokenized_x_train)\n",
        "\n",
        "# transforme les données tokenisées en un format de dataset TensorFlow prêt pour l’entraînement du modèle\n",
        "def make_dataset(x, y):\n",
        "    collated = data_collator(x)#Faire le padding sur toutes les reviews\n",
        "\n",
        "    \"\"\"\n",
        "    Chaque échantillon dans dataset est une tuple de trois éléments :\n",
        "    - input_ids (séquence tokenisée),\n",
        "    - attention_mask (indiquant les tokens réels vs padding) avec attention_mask un masque indiquant quelles positions correspondent aux tokens réels et lesquelles sont des tokens de padding (utile pour que le modèle ignore le padding). ,\n",
        "    - y (label correspondant).\n",
        "    \"\"\"\n",
        "    dataset = tf.data.Dataset.from_tensor_slices(\n",
        "        (collated['input_ids'], collated['attention_mask'], y)\n",
        "    )\n",
        "\n",
        "    #Transformation du dataset en format adapté pour BERT qui attendent en entrée à la fois input_ids et attention_mask ensemble.\n",
        "    \"\"\"\n",
        "    - Transforme chaque échantillon (input_ids, attention_mask, y) en ((input_ids, attention_mask), y).\n",
        "    - shuffle(25000) : Mélange les données pour réduire la corrélation entre les échantillons consécutifs (valeur 25000 pour un mélange complet si c'est la taille du dataset).\n",
        "    - batch(batch_size) : Regroupe les données en lots de taille batch_size (défini ailleurs comme 32).\n",
        "    \"\"\"\n",
        "    transformed_dataset = (\n",
        "        dataset.map(\n",
        "            lambda x, y, z: ((x, y), z)\n",
        "        ).shuffle(25000).batch(batch_size)\n",
        "    )\n",
        "\n",
        "    return transformed_dataset\n",
        "\n",
        "train_ds = make_dataset(tokenized_x_train, y_train)\n",
        "test_ds = make_dataset(tokenized_x_test, y_test)\n",
        "\n",
        "for x, y in train_ds:\n",
        "    print(x)\n",
        "    break"
      ],
      "metadata": {
        "colab": {
          "base_uri": "https://localhost:8080/"
        },
        "id": "QVMGDd0u5wV2",
        "outputId": "544fc36a-5177-49fb-8a89-71406774ca2a"
      },
      "execution_count": 22,
      "outputs": [
        {
          "output_type": "stream",
          "name": "stdout",
          "text": [
            "(<tf.Tensor: shape=(40, 512), dtype=int32, numpy=\n",
            "array([[ 101, 1996, 6358, ...,    0,    0,    0],\n",
            "       [ 101, 2009, 2318, ...,    0,    0,    0],\n",
            "       [ 101, 2023, 2143, ...,    0,    0,    0],\n",
            "       ...,\n",
            "       [ 101, 1045, 2387, ...,    0,    0,    0],\n",
            "       [ 101, 7987, 7987, ...,    0,    0,    0],\n",
            "       [ 101, 2023, 2733, ...,    0,    0,    0]], dtype=int32)>, <tf.Tensor: shape=(40, 512), dtype=int32, numpy=\n",
            "array([[1, 1, 1, ..., 0, 0, 0],\n",
            "       [1, 1, 1, ..., 0, 0, 0],\n",
            "       [1, 1, 1, ..., 0, 0, 0],\n",
            "       ...,\n",
            "       [1, 1, 1, ..., 0, 0, 0],\n",
            "       [1, 1, 1, ..., 0, 0, 0],\n",
            "       [1, 1, 1, ..., 0, 0, 0]], dtype=int32)>)\n"
          ]
        }
      ]
    },
    {
      "cell_type": "markdown",
      "source": [
        "### Ajout de nouvelle tete au model BERT pour le finetune"
      ],
      "metadata": {
        "id": "H2AmgGd_yjy7"
      }
    },
    {
      "cell_type": "code",
      "source": [
        "class ClassificationModel(keras.Model):\n",
        "\n",
        "    def __init__(self, bert_model):\n",
        "        super(ClassificationModel, self).__init__()\n",
        "        self.bert_model = bert_model\n",
        "        \"\"\"\n",
        "        - pre_classifier : Une couche dense avec 768 unités et une activation relu, qui sert à transformer la sortie de BERT en une représentation adaptée pour la classification.\n",
        "        - Une couche Dropout avec un taux de 0.1, utilisée pour éviter le surapprentissage en désactivant aléatoirement 10% des neurones lors de l'entraînement.\n",
        "        - classifier : Une couche dense finale avec 2 unités (pour une classification binaire) et sans activation. La sortie brute de cette couche (logits) est interprétée comme les scores pour chaque classe.\n",
        "        \"\"\"\n",
        "        self.pre_classifier = Dense(768, activation='relu')\n",
        "        self.dropout_1 = Dropout(0.1)\n",
        "       # Nouvelle couche dense supplémentaire avec 512 unités et activation relu\n",
        "        self.additional_dense = Dense(512, activation='relu')\n",
        "        self.dropout_2 = Dropout(0.1)\n",
        "        self.classifier = Dense(2)\n",
        "\n",
        "    # Methode\n",
        "    def call(self, x):\n",
        "      \"\"\"\n",
        "      - Passage par BERT produisant une sortie last_hidden_state.\n",
        "      - Extraction du token [CLS] : x[:, 0]\n",
        "      - pre_classifier : La couche dense avec relu affine la représentation [CLS].\n",
        "      - dropout : La couche Dropout désactive une fraction des neurones pour renforcer la robustesse du modèle.\n",
        "      - classifier : La dernière couche dense produit deux logits (non normalisés), un pour chaque classe\n",
        "      \"\"\"\n",
        "      x = self.bert_model(x)\n",
        "      x = x.last_hidden_state\n",
        "      x = x[:, 0] # récupère la représentation du premier token [CLS], qui résume le sens général de la séquence (car BERT bidirectionnelle).\n",
        "      x = self.pre_classifier(x)\n",
        "      x = self.dropout_1(x)\n",
        "      x = self.additional_dense(x)\n",
        "      x = self.dropout_2(x)\n",
        "      x = self.classifier(x)\n",
        "      return x\n",
        "\n",
        "    # Méthode de prédiction avec probabilités\n",
        "    def predict(self, texts):\n",
        "        \"\"\"\n",
        "        Prédit le sentiment d'une liste de phrases avec probabilités.\n",
        "\n",
        "        Args:\n",
        "        texts (list): Liste de phrases à analyser.\n",
        "\n",
        "        Returns:\n",
        "        list: Liste de tuples contenant le sentiment ('Positive' ou 'Negative') et la probabilité associée.\n",
        "        \"\"\"\n",
        "        # Tokenisation des textes\n",
        "        tokenized_texts = [tokenize_sample(text) for text in texts]\n",
        "        collated = data_collator(tokenized_texts)\n",
        "\n",
        "        # Convertir les données en tenseurs TensorFlow\n",
        "        inputs = {\n",
        "            'input_ids': tf.convert_to_tensor(collated['input_ids']),\n",
        "            'attention_mask': tf.convert_to_tensor(collated['attention_mask'])\n",
        "        }\n",
        "\n",
        "        # Effectuer les prédictions\n",
        "        logits = self(inputs)\n",
        "        probs = tf.nn.softmax(logits, axis=-1)  # Calcule les probabilités pour chaque classe\n",
        "        predictions = tf.argmax(probs, axis=-1)\n",
        "\n",
        "        # Conversion en étiquettes lisibles et formatage des résultats avec probabilités\n",
        "        results = [\n",
        "            (\"Positive\" if pred == 1 else \"Negative\", float(probs[i][pred]))\n",
        "            for i, pred in enumerate(predictions)\n",
        "        ]\n",
        "\n",
        "        return results\n"
      ],
      "metadata": {
        "id": "vnk8_xAg5wTF"
      },
      "execution_count": 23,
      "outputs": []
    },
    {
      "cell_type": "code",
      "source": [
        "#Création du modèle\n",
        "model = ClassificationModel(bert_model)\n",
        "\n",
        "#Test\n",
        "x = next(iter(train_ds))[0]\n",
        "model(x)\n",
        "model.summary()"
      ],
      "metadata": {
        "colab": {
          "base_uri": "https://localhost:8080/",
          "height": 289
        },
        "id": "L6e3K_KINxzT",
        "outputId": "a00ff7f9-f0d1-42ae-c827-2d54c5cf7567"
      },
      "execution_count": 24,
      "outputs": [
        {
          "output_type": "display_data",
          "data": {
            "text/plain": [
              "\u001b[1mModel: \"classification_model_2\"\u001b[0m\n"
            ],
            "text/html": [
              "<pre style=\"white-space:pre;overflow-x:auto;line-height:normal;font-family:Menlo,'DejaVu Sans Mono',consolas,'Courier New',monospace\"><span style=\"font-weight: bold\">Model: \"classification_model_2\"</span>\n",
              "</pre>\n"
            ]
          },
          "metadata": {}
        },
        {
          "output_type": "display_data",
          "data": {
            "text/plain": [
              "┏━━━━━━━━━━━━━━━━━━━━━━━━━━━━━━━━━━━━━━┳━━━━━━━━━━━━━━━━━━━━━━━━━━━━━┳━━━━━━━━━━━━━━━━━┓\n",
              "┃\u001b[1m \u001b[0m\u001b[1mLayer (type)                        \u001b[0m\u001b[1m \u001b[0m┃\u001b[1m \u001b[0m\u001b[1mOutput Shape               \u001b[0m\u001b[1m \u001b[0m┃\u001b[1m \u001b[0m\u001b[1m        Param #\u001b[0m\u001b[1m \u001b[0m┃\n",
              "┡━━━━━━━━━━━━━━━━━━━━━━━━━━━━━━━━━━━━━━╇━━━━━━━━━━━━━━━━━━━━━━━━━━━━━╇━━━━━━━━━━━━━━━━━┩\n",
              "│ dense_4 (\u001b[38;5;33mDense\u001b[0m)                      │ (\u001b[38;5;34m40\u001b[0m, \u001b[38;5;34m768\u001b[0m)                   │         \u001b[38;5;34m590,592\u001b[0m │\n",
              "├──────────────────────────────────────┼─────────────────────────────┼─────────────────┤\n",
              "│ dropout_2 (\u001b[38;5;33mDropout\u001b[0m)                  │ (\u001b[38;5;34m40\u001b[0m, \u001b[38;5;34m768\u001b[0m)                   │               \u001b[38;5;34m0\u001b[0m │\n",
              "├──────────────────────────────────────┼─────────────────────────────┼─────────────────┤\n",
              "│ dense_5 (\u001b[38;5;33mDense\u001b[0m)                      │ (\u001b[38;5;34m40\u001b[0m, \u001b[38;5;34m512\u001b[0m)                   │         \u001b[38;5;34m393,728\u001b[0m │\n",
              "├──────────────────────────────────────┼─────────────────────────────┼─────────────────┤\n",
              "│ dropout_3 (\u001b[38;5;33mDropout\u001b[0m)                  │ (\u001b[38;5;34m40\u001b[0m, \u001b[38;5;34m512\u001b[0m)                   │               \u001b[38;5;34m0\u001b[0m │\n",
              "├──────────────────────────────────────┼─────────────────────────────┼─────────────────┤\n",
              "│ dense_6 (\u001b[38;5;33mDense\u001b[0m)                      │ (\u001b[38;5;34m40\u001b[0m, \u001b[38;5;34m2\u001b[0m)                     │           \u001b[38;5;34m1,026\u001b[0m │\n",
              "└──────────────────────────────────────┴─────────────────────────────┴─────────────────┘\n"
            ],
            "text/html": [
              "<pre style=\"white-space:pre;overflow-x:auto;line-height:normal;font-family:Menlo,'DejaVu Sans Mono',consolas,'Courier New',monospace\">┏━━━━━━━━━━━━━━━━━━━━━━━━━━━━━━━━━━━━━━┳━━━━━━━━━━━━━━━━━━━━━━━━━━━━━┳━━━━━━━━━━━━━━━━━┓\n",
              "┃<span style=\"font-weight: bold\"> Layer (type)                         </span>┃<span style=\"font-weight: bold\"> Output Shape                </span>┃<span style=\"font-weight: bold\">         Param # </span>┃\n",
              "┡━━━━━━━━━━━━━━━━━━━━━━━━━━━━━━━━━━━━━━╇━━━━━━━━━━━━━━━━━━━━━━━━━━━━━╇━━━━━━━━━━━━━━━━━┩\n",
              "│ dense_4 (<span style=\"color: #0087ff; text-decoration-color: #0087ff\">Dense</span>)                      │ (<span style=\"color: #00af00; text-decoration-color: #00af00\">40</span>, <span style=\"color: #00af00; text-decoration-color: #00af00\">768</span>)                   │         <span style=\"color: #00af00; text-decoration-color: #00af00\">590,592</span> │\n",
              "├──────────────────────────────────────┼─────────────────────────────┼─────────────────┤\n",
              "│ dropout_2 (<span style=\"color: #0087ff; text-decoration-color: #0087ff\">Dropout</span>)                  │ (<span style=\"color: #00af00; text-decoration-color: #00af00\">40</span>, <span style=\"color: #00af00; text-decoration-color: #00af00\">768</span>)                   │               <span style=\"color: #00af00; text-decoration-color: #00af00\">0</span> │\n",
              "├──────────────────────────────────────┼─────────────────────────────┼─────────────────┤\n",
              "│ dense_5 (<span style=\"color: #0087ff; text-decoration-color: #0087ff\">Dense</span>)                      │ (<span style=\"color: #00af00; text-decoration-color: #00af00\">40</span>, <span style=\"color: #00af00; text-decoration-color: #00af00\">512</span>)                   │         <span style=\"color: #00af00; text-decoration-color: #00af00\">393,728</span> │\n",
              "├──────────────────────────────────────┼─────────────────────────────┼─────────────────┤\n",
              "│ dropout_3 (<span style=\"color: #0087ff; text-decoration-color: #0087ff\">Dropout</span>)                  │ (<span style=\"color: #00af00; text-decoration-color: #00af00\">40</span>, <span style=\"color: #00af00; text-decoration-color: #00af00\">512</span>)                   │               <span style=\"color: #00af00; text-decoration-color: #00af00\">0</span> │\n",
              "├──────────────────────────────────────┼─────────────────────────────┼─────────────────┤\n",
              "│ dense_6 (<span style=\"color: #0087ff; text-decoration-color: #0087ff\">Dense</span>)                      │ (<span style=\"color: #00af00; text-decoration-color: #00af00\">40</span>, <span style=\"color: #00af00; text-decoration-color: #00af00\">2</span>)                     │           <span style=\"color: #00af00; text-decoration-color: #00af00\">1,026</span> │\n",
              "└──────────────────────────────────────┴─────────────────────────────┴─────────────────┘\n",
              "</pre>\n"
            ]
          },
          "metadata": {}
        },
        {
          "output_type": "display_data",
          "data": {
            "text/plain": [
              "\u001b[1m Total params: \u001b[0m\u001b[38;5;34m985,346\u001b[0m (3.76 MB)\n"
            ],
            "text/html": [
              "<pre style=\"white-space:pre;overflow-x:auto;line-height:normal;font-family:Menlo,'DejaVu Sans Mono',consolas,'Courier New',monospace\"><span style=\"font-weight: bold\"> Total params: </span><span style=\"color: #00af00; text-decoration-color: #00af00\">985,346</span> (3.76 MB)\n",
              "</pre>\n"
            ]
          },
          "metadata": {}
        },
        {
          "output_type": "display_data",
          "data": {
            "text/plain": [
              "\u001b[1m Trainable params: \u001b[0m\u001b[38;5;34m985,346\u001b[0m (3.76 MB)\n"
            ],
            "text/html": [
              "<pre style=\"white-space:pre;overflow-x:auto;line-height:normal;font-family:Menlo,'DejaVu Sans Mono',consolas,'Courier New',monospace\"><span style=\"font-weight: bold\"> Trainable params: </span><span style=\"color: #00af00; text-decoration-color: #00af00\">985,346</span> (3.76 MB)\n",
              "</pre>\n"
            ]
          },
          "metadata": {}
        },
        {
          "output_type": "display_data",
          "data": {
            "text/plain": [
              "\u001b[1m Non-trainable params: \u001b[0m\u001b[38;5;34m0\u001b[0m (0.00 B)\n"
            ],
            "text/html": [
              "<pre style=\"white-space:pre;overflow-x:auto;line-height:normal;font-family:Menlo,'DejaVu Sans Mono',consolas,'Courier New',monospace\"><span style=\"font-weight: bold\"> Non-trainable params: </span><span style=\"color: #00af00; text-decoration-color: #00af00\">0</span> (0.00 B)\n",
              "</pre>\n"
            ]
          },
          "metadata": {}
        }
      ]
    },
    {
      "cell_type": "markdown",
      "source": [
        "\n"
      ],
      "metadata": {
        "id": "lP1TRjGUx1iO"
      }
    },
    {
      "cell_type": "code",
      "source": [
        "model.compile(\n",
        "    optimizer=Adam(1e-05),\n",
        "    loss=SparseCategoricalCrossentropy(from_logits=True),\n",
        "    metrics=[SparseCategoricalAccuracy(name='accuracy'), AUC(name='auc')]\n",
        ")\n",
        "\n",
        "history = model.fit(\n",
        "    train_ds,\n",
        "    validation_data=test_ds,  # évaluation sur la base de test\n",
        "    epochs=epochs,\n",
        "    verbose=fit_verbosity\n",
        ")\n"
      ],
      "metadata": {
        "colab": {
          "base_uri": "https://localhost:8080/"
        },
        "id": "USJucDKk5wP-",
        "outputId": "e2ea0d53-9828-4bcf-af11-e14858e5d879"
      },
      "execution_count": 25,
      "outputs": [
        {
          "output_type": "stream",
          "name": "stdout",
          "text": [
            "Epoch 1/4\n",
            "\u001b[1m625/625\u001b[0m \u001b[32m━━━━━━━━━━━━━━━━━━━━\u001b[0m\u001b[37m\u001b[0m \u001b[1m750s\u001b[0m 1s/step - accuracy: 0.7189 - loss: 0.6094 - val_accuracy: 0.8276 - val_loss: 0.4239\n",
            "Epoch 2/4\n",
            "\u001b[1m625/625\u001b[0m \u001b[32m━━━━━━━━━━━━━━━━━━━━\u001b[0m\u001b[37m\u001b[0m \u001b[1m727s\u001b[0m 1s/step - accuracy: 0.8380 - loss: 0.4014 - val_accuracy: 0.8436 - val_loss: 0.3636\n",
            "Epoch 3/4\n",
            "\u001b[1m625/625\u001b[0m \u001b[32m━━━━━━━━━━━━━━━━━━━━\u001b[0m\u001b[37m\u001b[0m \u001b[1m761s\u001b[0m 1s/step - accuracy: 0.8517 - loss: 0.3526 - val_accuracy: 0.8505 - val_loss: 0.3458\n",
            "Epoch 4/4\n",
            "\u001b[1m625/625\u001b[0m \u001b[32m━━━━━━━━━━━━━━━━━━━━\u001b[0m\u001b[37m\u001b[0m \u001b[1m726s\u001b[0m 1s/step - accuracy: 0.8551 - loss: 0.3427 - val_accuracy: 0.8565 - val_loss: 0.3377\n"
          ]
        }
      ]
    },
    {
      "cell_type": "code",
      "source": [
        "# Afficher les métriques de validation après l'entraînement\n",
        "print(\"Validation Accuracy:\", history.history['val_accuracy'])\n",
        "print(\"Validation Loss:\", history.history['val_loss'])\n"
      ],
      "metadata": {
        "id": "gJuQUJDj5wM3",
        "colab": {
          "base_uri": "https://localhost:8080/"
        },
        "outputId": "25f4f897-58ce-4f7e-814d-29f3a991bc4c"
      },
      "execution_count": 26,
      "outputs": [
        {
          "output_type": "stream",
          "name": "stdout",
          "text": [
            "Validation Accuracy: [0.8276000022888184, 0.8436400294303894, 0.8504800200462341, 0.8565199971199036]\n",
            "Validation Loss: [0.4239116311073303, 0.3635841906070709, 0.3457719385623932, 0.3376903235912323]\n"
          ]
        }
      ]
    },
    {
      "cell_type": "code",
      "source": [
        "_, score = model.evaluate(test_ds)\n",
        "colors = sns.color_palette('pastel')[2:]\n",
        "accuracy_score = [score, 1 - score]\n",
        "plt.pie(\n",
        "    accuracy_score,\n",
        "    labels=[\"Accurate\", \"Mistaken\"],\n",
        "    colors=colors,\n",
        "    autopct=lambda val: f\"{val:.2f}%\",\n",
        "    explode=(0.0, 0.1)\n",
        ")\n",
        "plt.show()"
      ],
      "metadata": {
        "id": "woW2CCCY5wJ2",
        "colab": {
          "base_uri": "https://localhost:8080/",
          "height": 424
        },
        "outputId": "aa581451-47db-42df-c398-5bfe80d56d13"
      },
      "execution_count": 27,
      "outputs": [
        {
          "output_type": "stream",
          "name": "stdout",
          "text": [
            "\u001b[1m625/625\u001b[0m \u001b[32m━━━━━━━━━━━━━━━━━━━━\u001b[0m\u001b[37m\u001b[0m \u001b[1m364s\u001b[0m 583ms/step - accuracy: 0.8598 - loss: 0.3316\n"
          ]
        },
        {
          "output_type": "display_data",
          "data": {
            "text/plain": [
              "<Figure size 640x480 with 1 Axes>"
            ],
            "image/png": "[encoded data removed]"
          },
          "metadata": {}
        }
      ]
    },
    {
      "cell_type": "code",
      "source": [
        "# Obtenir les prédictions et étiquettes réelles\n",
        "y_pred = []\n",
        "y_true = []\n",
        "\n",
        "for x, y in test_ds:\n",
        "    predictions = model.predict(x)\n",
        "    predicted_classes = np.argmax(predictions, axis=1)\n",
        "    y_pred.extend(predicted_classes)\n",
        "    y_true.extend(y.numpy())\n",
        "\n",
        "# Matrice de confusion\n",
        "plt.subplot(1, 2, 2)  # Deuxième moitié pour la matrice de confusion\n",
        "conf_matrix = confusion_matrix(y_true, y_pred)\n",
        "sns.heatmap(\n",
        "    conf_matrix,\n",
        "    annot=True,\n",
        "    fmt=\"d\",\n",
        "    cmap=\"Blues\",\n",
        "    xticklabels=[\"Negative\", \"Positive\"],\n",
        "    yticklabels=[\"Negative\", \"Positive\"]\n",
        ")\n",
        "plt.xlabel(\"Predicted Label\")\n",
        "plt.ylabel(\"True Label\")\n",
        "plt.title(\"Confusion Matrix\")\n",
        "\n",
        "plt.tight_layout()\n",
        "plt.show()"
      ],
      "metadata": {
        "id": "nZb_AkjAeYII"
      },
      "execution_count": null,
      "outputs": []
    },
    {
      "cell_type": "code",
      "source": [
        "# Exemples de phrases à tester\n",
        "examples = [\n",
        "    \"This movie was absolutely fantastic! The acting was superb and the story was captivating.\",\n",
        "    \"I didn't like this movie at all. It was boring and way too long.\",\n",
        "    \"The plot was interesting, but the characters lacked depth.\",\n",
        "    \"An amazing experience! One of the best movies I've ever seen.\",\n",
        "    \"Terrible movie. I wouldn't recommend it to anyone.\"\n",
        "]\n",
        "\n",
        "# Utilisation de la nouvelle méthode `predict`\n",
        "results = model.predict(examples)\n",
        "\n",
        "# Affichage des résultats\n",
        "for text, (sentiment, probability) in zip(examples, results):\n",
        "    print(f\"Text: {text} | Sentiment: {sentiment} | Probability: {probability:.2f}\")"
      ],
      "metadata": {
        "id": "T9uWUFMC5wG1",
        "colab": {
          "base_uri": "https://localhost:8080/"
        },
        "outputId": "a0653dcd-7f53-45cf-d6cc-034133198199"
      },
      "execution_count": 28,
      "outputs": [
        {
          "output_type": "stream",
          "name": "stdout",
          "text": [
            "Text: This movie was absolutely fantastic! The acting was superb and the story was captivating. | Sentiment: Positive | Probability: 1.00\n",
            "Text: I didn't like this movie at all. It was boring and way too long. | Sentiment: Negative | Probability: 0.88\n",
            "Text: The plot was interesting, but the characters lacked depth. | Sentiment: Positive | Probability: 0.76\n",
            "Text: An amazing experience! One of the best movies I've ever seen. | Sentiment: Positive | Probability: 0.99\n",
            "Text: Terrible movie. I wouldn't recommend it to anyone. | Sentiment: Negative | Probability: 0.85\n"
          ]
        }
      ]
    },
    {
      "cell_type": "code",
      "source": [],
      "metadata": {
        "id": "cA8JR4q65v9m"
      },
      "execution_count": null,
      "outputs": []
    },
    {
      "cell_type": "code",
      "source": [],
      "metadata": {
        "id": "KC-dDCC_5vwW"
      },
      "execution_count": null,
      "outputs": []
    }
  ]
}